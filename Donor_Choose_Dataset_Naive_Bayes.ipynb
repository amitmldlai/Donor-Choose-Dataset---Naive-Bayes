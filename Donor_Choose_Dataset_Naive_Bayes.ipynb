{
  "cells": [
    {
      "cell_type": "markdown",
      "metadata": {
        "id": "view-in-github",
        "colab_type": "text"
      },
      "source": [
        "<a href=\"https://colab.research.google.com/github/amitmldlai/Donor-Choose-Dataset---Naive-Bayes/blob/main/Donor_Choose_Dataset_Naive_Bayes.ipynb\" target=\"_parent\"><img src=\"https://colab.research.google.com/assets/colab-badge.svg\" alt=\"Open In Colab\"/></a>"
      ]
    },
    {
      "cell_type": "markdown",
      "source": [
        "#Imports"
      ],
      "metadata": {
        "id": "xU6OFnomxoBt"
      }
    },
    {
      "cell_type": "code",
      "source": [
        "import pandas as pd\n",
        "import numpy as np\n",
        "import matplotlib.pyplot as plt\n",
        "import seaborn as sns \n",
        "from sklearn.model_selection import train_test_split\n",
        "from sklearn.feature_extraction.text import CountVectorizer\n",
        "from sklearn.feature_extraction.text import TfidfVectorizer\n",
        "from sklearn.preprocessing import Normalizer\n",
        "from scipy.sparse import hstack\n",
        "from sklearn.model_selection import GridSearchCV\n",
        "from sklearn.naive_bayes import MultinomialNB\n",
        "from sklearn.metrics import roc_auc_score, roc_curve, auc, confusion_matrix \n",
        "import math\n",
        "from tqdm import tqdm\n",
        "from prettytable import PrettyTable\n",
        "import warnings\n",
        "warnings.filterwarnings('ignore')"
      ],
      "metadata": {
        "id": "H7fVcMxelhf9"
      },
      "execution_count": 123,
      "outputs": []
    },
    {
      "cell_type": "markdown",
      "source": [
        "#Load data"
      ],
      "metadata": {
        "id": "VupTHCp3xsWb"
      }
    },
    {
      "cell_type": "code",
      "execution_count": 4,
      "metadata": {
        "id": "dA1jknyqb3c_",
        "colab": {
          "base_uri": "https://localhost:8080/"
        },
        "outputId": "ce252a86-3e00-4dff-e368-b4065885a0b8"
      },
      "outputs": [
        {
          "output_type": "execute_result",
          "data": {
            "text/plain": [
              "['school_state',\n",
              " 'teacher_prefix',\n",
              " 'project_grade_category',\n",
              " 'teacher_number_of_previously_posted_projects',\n",
              " 'project_is_approved',\n",
              " 'clean_categories',\n",
              " 'clean_subcategories',\n",
              " 'essay',\n",
              " 'price']"
            ]
          },
          "metadata": {},
          "execution_count": 4
        }
      ],
      "source": [
        "data = pd.read_csv('preprocessed_data.csv')\n",
        "data.columns.tolist()"
      ]
    },
    {
      "cell_type": "code",
      "source": [
        "plt.figure(figsize=(10, 7))\n",
        "sns.countplot(data['project_is_approved'])\n",
        "plt.show()"
      ],
      "metadata": {
        "colab": {
          "base_uri": "https://localhost:8080/",
          "height": 443
        },
        "id": "FyCUF72PHn03",
        "outputId": "2bd3c5cb-ff24-4df3-e03c-fe38f8a6f50b"
      },
      "execution_count": 24,
      "outputs": [
        {
          "output_type": "display_data",
          "data": {
            "text/plain": [
              "<Figure size 720x504 with 1 Axes>"
            ],
            "image/png": "[encoded data removed]"
          },
          "metadata": {}
        }
      ]
    },
    {
      "cell_type": "markdown",
      "source": [
        "\n",
        "\n",
        "*   Dataset is imbalanced\n",
        "\n"
      ],
      "metadata": {
        "id": "NsA2AqcgKyY9"
      }
    },
    {
      "cell_type": "markdown",
      "metadata": {
        "id": "DX1r5OgcBXoA"
      },
      "source": [
        "#Splitting data"
      ]
    },
    {
      "cell_type": "code",
      "execution_count": 33,
      "metadata": {
        "id": "8puKJjTHBXoA"
      },
      "outputs": [],
      "source": [
        "x_train, x_test, y_train, y_test = train_test_split(data, data['project_is_approved'], test_size=0.2, random_state=42, stratify=data['project_is_approved'])"
      ]
    },
    {
      "cell_type": "code",
      "source": [
        "print(\"x_train: \", x_train.shape)\n",
        "print(\"y_train: \", y_train.shape)"
      ],
      "metadata": {
        "colab": {
          "base_uri": "https://localhost:8080/"
        },
        "id": "_oFSSwhoLZKs",
        "outputId": "86ca35d7-07fd-4f4d-8485-d7f8c069be5a"
      },
      "execution_count": 34,
      "outputs": [
        {
          "output_type": "stream",
          "name": "stdout",
          "text": [
            "x_train:  (87398, 9)\n",
            "y_train:  (87398,)\n"
          ]
        }
      ]
    },
    {
      "cell_type": "code",
      "source": [
        "print(\"x_test: \", x_test.shape)\n",
        "print(\"y_test: \", y_test.shape)"
      ],
      "metadata": {
        "colab": {
          "base_uri": "https://localhost:8080/"
        },
        "id": "MBatjWLCLdO-",
        "outputId": "8be1baaf-7715-43c3-8071-674458277517"
      },
      "execution_count": 35,
      "outputs": [
        {
          "output_type": "stream",
          "name": "stdout",
          "text": [
            "x_test:  (21850, 9)\n",
            "y_test:  (21850,)\n"
          ]
        }
      ]
    },
    {
      "cell_type": "markdown",
      "source": [
        "**X_TRAIN**"
      ],
      "metadata": {
        "id": "Nl8pNeZXDCuO"
      }
    },
    {
      "cell_type": "code",
      "source": [
        "x_train_y_value_counts = x_train['project_is_approved'].value_counts()\n",
        "print(\"Number of projects that are approved for funding    \", x_train_y_value_counts[1],\" -> \",round(x_train_y_value_counts[1]/(x_train_y_value_counts[1]+x_train_y_value_counts[0])*100,2),\"%\")\n",
        "print(\"Number of projects that are not approved for funding \",x_train_y_value_counts[0],\" -> \",round(x_train_y_value_counts[0]/(x_train_y_value_counts[1]+x_train_y_value_counts[0])*100,2),\"%\")"
      ],
      "metadata": {
        "colab": {
          "base_uri": "https://localhost:8080/"
        },
        "id": "kyK84x0LC__3",
        "outputId": "7e8de190-a7d7-4929-eac9-93b07c884213"
      },
      "execution_count": 36,
      "outputs": [
        {
          "output_type": "stream",
          "name": "stdout",
          "text": [
            "Number of projects that are approved for funding     74164  ->  84.86 %\n",
            "Number of projects that are not approved for funding  13234  ->  15.14 %\n"
          ]
        }
      ]
    },
    {
      "cell_type": "markdown",
      "source": [
        "**X_TEST**"
      ],
      "metadata": {
        "id": "x__WLK5wDLjB"
      }
    },
    {
      "cell_type": "code",
      "source": [
        "x_test_y_value_counts = x_test['project_is_approved'].value_counts()\n",
        "print(\"Number of projects that are approved for funding    \", x_test_y_value_counts[1],\" -> \",round(x_test_y_value_counts[1]/(x_test_y_value_counts[1]+x_test_y_value_counts[0])*100,2),\"%\")\n",
        "print(\"Number of projects that are not approved for funding \",x_test_y_value_counts[0],\" -> \",round(x_test_y_value_counts[0]/(x_test_y_value_counts[1]+x_test_y_value_counts[0])*100,2),\"%\")"
      ],
      "metadata": {
        "colab": {
          "base_uri": "https://localhost:8080/"
        },
        "id": "dlpam-99DGVG",
        "outputId": "eaeb35ee-1e6b-45ae-91b8-6d943c2024a6"
      },
      "execution_count": 37,
      "outputs": [
        {
          "output_type": "stream",
          "name": "stdout",
          "text": [
            "Number of projects that are approved for funding     18542  ->  84.86 %\n",
            "Number of projects that are not approved for funding  3308  ->  15.14 %\n"
          ]
        }
      ]
    },
    {
      "cell_type": "markdown",
      "source": [
        "#Feature Engineering"
      ],
      "metadata": {
        "id": "Vel0P7YAyD8S"
      }
    },
    {
      "cell_type": "markdown",
      "metadata": {
        "id": "R4iXjckzBXoB"
      },
      "source": [
        "**CountVectorizer of text data**"
      ]
    },
    {
      "cell_type": "markdown",
      "source": [
        "Essay"
      ],
      "metadata": {
        "id": "plLi78cGSVhz"
      }
    },
    {
      "cell_type": "code",
      "execution_count": 38,
      "metadata": {
        "colab": {
          "base_uri": "https://localhost:8080/"
        },
        "id": "OKg1CgmzBXoB",
        "outputId": "2488c2a6-a9b1-4e5a-bc8c-81585d4035eb"
      },
      "outputs": [
        {
          "output_type": "stream",
          "name": "stdout",
          "text": [
            "Shape of matrix after BOW -> Essay: x_train:  (87398, 15215)\n",
            "Shape of matrix after BOW -> Essay: x_test :  (21850, 15215)\n"
          ]
        }
      ],
      "source": [
        "vectorizer_essay_bow = CountVectorizer(min_df=10)\n",
        "vectorizer_essay_bow.fit(x_train['essay'])\n",
        "fea_vectorizer_essay_bow = list(vectorizer_essay_bow.get_feature_names_out())\n",
        "x_train_essay_bow = vectorizer_essay_bow.transform(x_train['essay'])\n",
        "x_test_essay_bow  = vectorizer_essay_bow.transform(x_test['essay'])\n",
        "\n",
        "print(\"Shape of matrix after BOW -> Essay: x_train: \",x_train_essay_bow.shape)\n",
        "print(\"Shape of matrix after BOW -> Essay: x_test : \",x_test_essay_bow.shape)"
      ]
    },
    {
      "cell_type": "markdown",
      "metadata": {
        "id": "wOhT_JTjBXoB"
      },
      "source": [
        "**TfidfVectorizer of text data**"
      ]
    },
    {
      "cell_type": "code",
      "execution_count": 40,
      "metadata": {
        "colab": {
          "base_uri": "https://localhost:8080/"
        },
        "id": "rXESnQ0GBXoB",
        "outputId": "13302a4b-d858-414d-ad51-aa4e0494615f"
      },
      "outputs": [
        {
          "output_type": "stream",
          "name": "stdout",
          "text": [
            "Shape of matrix after TF-IDF -> Essay: x_train:  (87398, 15215)\n",
            "Shape of matrix after TF-IDF -> Essay: x_test :  (21850, 15215)\n"
          ]
        }
      ],
      "source": [
        "vectorizer_essay_tfidf = TfidfVectorizer(min_df=10)\n",
        "vectorizer_essay_tfidf.fit(x_train['essay'])\n",
        "fea_vectorizer_essay_tfidf = list(vectorizer_essay_tfidf.get_feature_names_out())\n",
        "x_train_essay_tfidf = vectorizer_essay_tfidf.transform(x_train['essay'])\n",
        "x_test_essay_tfidf  = vectorizer_essay_tfidf.transform(x_test['essay'])\n",
        "\n",
        "print(\"Shape of matrix after TF-IDF -> Essay: x_train: \",x_train_essay_tfidf.shape)\n",
        "print(\"Shape of matrix after TF-IDF -> Essay: x_test : \",x_test_essay_tfidf.shape)"
      ]
    },
    {
      "cell_type": "markdown",
      "metadata": {
        "id": "gpuulGWkBXoC"
      },
      "source": [
        "**One-Hot encoding of categorical features**"
      ]
    },
    {
      "cell_type": "markdown",
      "source": [
        "Clean Categories"
      ],
      "metadata": {
        "id": "QwI365gRRfxp"
      }
    },
    {
      "cell_type": "code",
      "execution_count": 44,
      "metadata": {
        "colab": {
          "base_uri": "https://localhost:8080/"
        },
        "id": "CroqdJ8ABXoC",
        "outputId": "65fe67e7-9a07-4ec5-af98-34731dc7aeb3"
      },
      "outputs": [
        {
          "output_type": "stream",
          "name": "stdout",
          "text": [
            "Shape of matrix after one hot encoding -> categories: x_train:  (87398, 9)\n",
            "Shape of matrix after one hot encoding -> categories: x_test :  (21850, 9)\n"
          ]
        }
      ],
      "source": [
        "vectorizer_sub = CountVectorizer(binary = True)\n",
        "vectorizer_sub.fit(x_train['clean_categories'])\n",
        "fea_vectorizer_sub = list(vectorizer_sub.get_feature_names_out())\n",
        "x_train_categories_one_hot = vectorizer_sub.transform(x_train['clean_categories'])\n",
        "x_test_categories_one_hot  = vectorizer_sub.transform(x_test['clean_categories'])\n",
        "\n",
        "print(\"Shape of matrix after one hot encoding -> categories: x_train: \",x_train_categories_one_hot.shape)\n",
        "print(\"Shape of matrix after one hot encoding -> categories: x_test : \",x_test_categories_one_hot.shape)"
      ]
    },
    {
      "cell_type": "markdown",
      "source": [
        "Clean Subcategories"
      ],
      "metadata": {
        "id": "XwUETxY8RkzK"
      }
    },
    {
      "cell_type": "code",
      "source": [
        "vectorizer_sub_sub = CountVectorizer(binary = True)\n",
        "vectorizer_sub_sub.fit(x_train['clean_subcategories'])\n",
        "fea_vectorizer_sub_sub = list(vectorizer_sub_sub.get_feature_names_out())\n",
        "x_train_sub_categories_one_hot = vectorizer_sub_sub.transform(x_train['clean_subcategories'])\n",
        "x_test_sub_categories_one_hot  = vectorizer_sub_sub.transform(x_test['clean_subcategories'])\n",
        "\n",
        "print(\"Shape of matrix after one hot encoding -> sub_categories: x_train: \",x_train_sub_categories_one_hot.shape)\n",
        "print(\"Shape of matrix after one hot encoding -> sub_categories: x_test : \",x_test_sub_categories_one_hot.shape)"
      ],
      "metadata": {
        "colab": {
          "base_uri": "https://localhost:8080/"
        },
        "id": "wZgzFQqiDkAY",
        "outputId": "d1c36824-92dd-4563-df8d-6e9d30ace0bf"
      },
      "execution_count": 43,
      "outputs": [
        {
          "output_type": "stream",
          "name": "stdout",
          "text": [
            "Shape of matrix after one hot encoding -> sub_categories: x_train:  (87398, 30)\n",
            "Shape of matrix after one hot encoding -> sub_categories: x_test :  (21850, 30)\n"
          ]
        }
      ]
    },
    {
      "cell_type": "markdown",
      "source": [
        "School State"
      ],
      "metadata": {
        "id": "aa4g0r2CRn2a"
      }
    },
    {
      "cell_type": "code",
      "source": [
        "vectorizer_state = CountVectorizer(binary = True)\n",
        "vectorizer_state.fit(x_train['school_state'])\n",
        "fea_vectorizer_state = list(vectorizer_state.get_feature_names_out())\n",
        "x_train_school_state_one_hot = vectorizer_state.transform(x_train['school_state'])\n",
        "x_test_school_state_one_hot  = vectorizer_state.transform(x_test['school_state'])\n",
        "\n",
        "print(\"Shape of matrix after one hot encoding -> school_state: x_train: \",x_train_school_state_one_hot.shape)\n",
        "print(\"Shape of matrix after one hot encoding -> school_state: x_test : \",x_test_school_state_one_hot.shape)"
      ],
      "metadata": {
        "colab": {
          "base_uri": "https://localhost:8080/"
        },
        "id": "n7VQWgsJDqdt",
        "outputId": "c9761762-bf68-4feb-cd5c-efe059a07f29"
      },
      "execution_count": 45,
      "outputs": [
        {
          "output_type": "stream",
          "name": "stdout",
          "text": [
            "Shape of matrix after one hot encoding -> school_state: x_train:  (87398, 51)\n",
            "Shape of matrix after one hot encoding -> school_state: x_test :  (21850, 51)\n"
          ]
        }
      ]
    },
    {
      "cell_type": "markdown",
      "source": [
        "Teacher Prefix"
      ],
      "metadata": {
        "id": "bujLqW3vRs27"
      }
    },
    {
      "cell_type": "code",
      "source": [
        "vectorizer_teacher = CountVectorizer(binary=True)\n",
        "vectorizer_teacher.fit(x_train['teacher_prefix'])\n",
        "fea_vectorizer_teacher = list(vectorizer_teacher.get_feature_names_out())\n",
        "x_train_teacher_prefix_one_hot = vectorizer_teacher.transform(x_train['teacher_prefix'])\n",
        "x_test_teacher_prefix_one_hot  = vectorizer_teacher.transform(x_test['teacher_prefix'])\n",
        "\n",
        "print(\"Shape of matrix after one hot encoding -> teacher_prefix: x_train: \",x_train_teacher_prefix_one_hot.shape)\n",
        "print(\"Shape of matrix after one hot encoding -> teacher_prefix: x_test : \",x_train_teacher_prefix_one_hot.shape)"
      ],
      "metadata": {
        "colab": {
          "base_uri": "https://localhost:8080/"
        },
        "id": "bOiUuD4bDtAu",
        "outputId": "851d8975-c906-4add-8c52-88df44fd5560"
      },
      "execution_count": 46,
      "outputs": [
        {
          "output_type": "stream",
          "name": "stdout",
          "text": [
            "Shape of matrix after one hot encoding -> teacher_prefix: x_train:  (87398, 5)\n",
            "Shape of matrix after one hot encoding -> teacher_prefix: x_test :  (87398, 5)\n"
          ]
        }
      ]
    },
    {
      "cell_type": "markdown",
      "source": [
        "Project Grade Category"
      ],
      "metadata": {
        "id": "pXNH8m3PRwTg"
      }
    },
    {
      "cell_type": "code",
      "source": [
        "vectorizer_grade = CountVectorizer(binary=True)\n",
        "vectorizer_grade.fit(x_train['project_grade_category'].values)\n",
        "fea_vectorizer_grade = list(vectorizer_grade.get_feature_names_out())\n",
        "x_train_grade_category_one_hot = vectorizer_grade.transform(x_train['project_grade_category'])\n",
        "x_test_grade_category_one_hot  = vectorizer_grade.transform(x_test['project_grade_category'])\n",
        "\n",
        "print(\"Shape of matrix after one hot encoding -> project_grade: x_train : \",x_train_grade_category_one_hot.shape)\n",
        "print(\"Shape of matrix after one hot encoding -> project_grade: x_test  : \",x_test_grade_category_one_hot.shape)"
      ],
      "metadata": {
        "colab": {
          "base_uri": "https://localhost:8080/"
        },
        "id": "dKxIldQYDwH9",
        "outputId": "df62a7dd-1af4-4675-aa52-19d85ff93bea"
      },
      "execution_count": 47,
      "outputs": [
        {
          "output_type": "stream",
          "name": "stdout",
          "text": [
            "Shape of matrix after one hot encoding -> project_grade: x_train :  (87398, 4)\n",
            "Shape of matrix after one hot encoding -> project_grade: x_test  :  (21850, 4)\n"
          ]
        }
      ]
    },
    {
      "cell_type": "markdown",
      "metadata": {
        "id": "U82We68VBXoG"
      },
      "source": [
        "**Numerical Features**"
      ]
    },
    {
      "cell_type": "markdown",
      "source": [
        "Price"
      ],
      "metadata": {
        "id": "YrPQIPJcR1FD"
      }
    },
    {
      "cell_type": "code",
      "execution_count": 59,
      "metadata": {
        "colab": {
          "base_uri": "https://localhost:8080/"
        },
        "id": "wtZHIOGQBXoG",
        "outputId": "e98a085e-5acb-4b18-c5c7-5917ca815ff2"
      },
      "outputs": [
        {
          "output_type": "stream",
          "name": "stdout",
          "text": [
            "Shape of matrix after normalization -> Price Normalized: x_train:  (87398, 1)\n",
            "Shape of matrix after normalization -> Price Normalized: x_test :  (21850, 1)\n"
          ]
        }
      ],
      "source": [
        "normalizer = Normalizer()\n",
        "\n",
        "x_train_price_normalized = normalizer.fit_transform(x_train['price'].values.reshape(1, -1)).reshape(-1, 1)\n",
        "x_test_price_normalized  = normalizer.fit_transform(x_test['price'].values.reshape(1, -1)).reshape(-1, 1)\n",
        "\n",
        "print(\"Shape of matrix after normalization -> Price Normalized: x_train: \", x_train_price_normalized.shape)\n",
        "print(\"Shape of matrix after normalization -> Price Normalized: x_test : \", x_test_price_normalized.shape)"
      ]
    },
    {
      "cell_type": "markdown",
      "source": [
        "Teacher number of previously posted projects"
      ],
      "metadata": {
        "id": "xlKyoNtxR3P4"
      }
    },
    {
      "cell_type": "code",
      "source": [
        "normalizer = Normalizer()\n",
        "\n",
        "x_train_teacher_number_of_previously_posted_projects_normalized = normalizer.fit_transform(x_train['teacher_number_of_previously_posted_projects'].values.reshape(1,-1)).reshape(-1, 1)\n",
        "x_test_teacher_number_of_previously_posted_projects_normalized  = normalizer.fit_transform(x_test['teacher_number_of_previously_posted_projects'].values.reshape(1, -1)).reshape(-1, 1)\n",
        "\n",
        "print(\"Shape of matrix after normalization -> Teacher_number_of_previously_posted_projects Normalized: x_train: \",x_train_teacher_number_of_previously_posted_projects_normalized.shape)\n",
        "print(\"Shape of matrix after normalization -> Teacher_number_of_previously_posted_projects Normalized: x_test : \",x_test_teacher_number_of_previously_posted_projects_normalized.shape)"
      ],
      "metadata": {
        "colab": {
          "base_uri": "https://localhost:8080/"
        },
        "id": "8SFvmEcbECu8",
        "outputId": "bd4de4fa-adbc-41fb-a641-5c41f839bd33"
      },
      "execution_count": 64,
      "outputs": [
        {
          "output_type": "stream",
          "name": "stdout",
          "text": [
            "Shape of matrix after normalization -> Teacher_number_of_previously_posted_projects Normalized: x_train:  (87398, 1)\n",
            "Shape of matrix after normalization -> Teacher_number_of_previously_posted_projects Normalized: x_test :  (21850, 1)\n"
          ]
        }
      ]
    },
    {
      "cell_type": "markdown",
      "source": [
        "#Training model using BOW features(for text data)"
      ],
      "metadata": {
        "id": "kLvmbkaZxhXQ"
      }
    },
    {
      "cell_type": "markdown",
      "metadata": {
        "id": "CKxsYv8ABXoH"
      },
      "source": [
        "Stacking all the processed features using scipy sparse hstack, with essay as BBOW featurized"
      ]
    },
    {
      "cell_type": "code",
      "execution_count": 66,
      "metadata": {
        "colab": {
          "base_uri": "https://localhost:8080/"
        },
        "id": "jFJdUoz0BXoH",
        "outputId": "be5a815f-57b2-4e20-82aa-58fd18754e7d"
      },
      "outputs": [
        {
          "output_type": "stream",
          "name": "stdout",
          "text": [
            "Type -> One Hot -> x_train:  <class 'scipy.sparse.coo.coo_matrix'>\n",
            "Type -> One Hot -> x_test :  <class 'scipy.sparse.coo.coo_matrix'>\n",
            "\n",
            "\n",
            "Shape -> One Hot -> x_train:  (87398, 15316)\n",
            "Shape -> One Hot -> x_test :  (21850, 15316)\n"
          ]
        }
      ],
      "source": [
        "x_train_onehot_bow = hstack((x_train_categories_one_hot, x_train_sub_categories_one_hot, x_train_school_state_one_hot, x_train_teacher_prefix_one_hot, x_train_grade_category_one_hot, x_train_price_normalized, x_train_teacher_number_of_previously_posted_projects_normalized, x_train_essay_bow))\n",
        "x_test_onehot_bow  = hstack((x_test_categories_one_hot, x_test_sub_categories_one_hot, x_test_school_state_one_hot, x_test_teacher_prefix_one_hot, x_test_grade_category_one_hot, x_test_price_normalized, x_test_teacher_number_of_previously_posted_projects_normalized, x_test_essay_bow))\n",
        "\n",
        "print(\"Type -> One Hot -> x_train: \",type(x_train_onehot_bow))\n",
        "print(\"Type -> One Hot -> x_test : \",type(x_test_onehot_bow))\n",
        "print(\"\\n\")\n",
        "print(\"Shape -> One Hot -> x_train: \",x_train_onehot_bow.shape)\n",
        "print(\"Shape -> One Hot -> x_test : \",x_test_onehot_bow.shape)"
      ]
    },
    {
      "cell_type": "markdown",
      "source": [
        "**GridSearchCV - Train model to find best Hyperparameters**"
      ],
      "metadata": {
        "id": "dYhwbvJpyTU-"
      }
    },
    {
      "cell_type": "code",
      "execution_count": 69,
      "metadata": {
        "colab": {
          "base_uri": "https://localhost:8080/"
        },
        "id": "WMON_eZZBXoI",
        "outputId": "236dcc7f-4d4f-4e7d-8ee4-d99ba7b8a48b"
      },
      "outputs": [
        {
          "output_type": "stream",
          "name": "stdout",
          "text": [
            "Fitting 10 folds for each of 20 candidates, totalling 200 fits\n"
          ]
        },
        {
          "output_type": "execute_result",
          "data": {
            "text/plain": [
              "GridSearchCV(cv=10, estimator=MultinomialNB(class_prior=[0.5, 0.5]), n_jobs=-1,\n",
              "             param_grid={'alpha': [1e-05, 5e-05, 0.0001, 0.0005, 0.001, 0.005,\n",
              "                                   0.01, 0.05, 0.1, 0.5, 1, 5, 10, 50, 100, 500,\n",
              "                                   1000, 2500, 5000, 10000]},\n",
              "             return_train_score=True, scoring='roc_auc', verbose=1)"
            ]
          },
          "metadata": {},
          "execution_count": 69
        }
      ],
      "source": [
        "mnb_bow = MultinomialNB(class_prior = [0.5, 0.5])\n",
        "hyperparameter = {'alpha':[0.00001, 0.00005, 0.0001, 0.0005, 0.001, 0.005, 0.01, 0.05, 0.1, 0.5, 1, 5, 10, 50, 100, 500, 1000, 2500, 5000, 10000]}\n",
        "clf = GridSearchCV(mnb_bow, hyperparameter, cv = 10, scoring = 'roc_auc', verbose = 1, return_train_score = True, n_jobs = -1)\n",
        "clf.fit(x_train_onehot_bow, y_train)"
      ]
    },
    {
      "cell_type": "markdown",
      "source": [
        "**GridSearch result:**"
      ],
      "metadata": {
        "id": "me33VipKZhKD"
      }
    },
    {
      "cell_type": "code",
      "source": [
        "train_auc = clf.cv_results_['mean_train_score']\n",
        "train_auc_std = clf.cv_results_['std_train_score']\n",
        "cv_auc = clf.cv_results_['mean_test_score']\n",
        "cv_auc_std = clf.cv_results_['std_test_score']\n",
        "bestalpha_1 = clf.best_params_['alpha']\n",
        "bestScore_1 = clf.best_score_\n",
        "print(\"BEST ALPHA value: \", clf.best_params_['alpha'])   #clf.best_estimator_.alpha\n",
        "print(\"BEST AUC score: \", clf.best_score_)"
      ],
      "metadata": {
        "colab": {
          "base_uri": "https://localhost:8080/"
        },
        "id": "vZ7iozf_Uji4",
        "outputId": "362d50cd-6598-437b-9150-6b13657dccb4"
      },
      "execution_count": 72,
      "outputs": [
        {
          "output_type": "stream",
          "name": "stdout",
          "text": [
            "BEST ALPHA value:  0.5\n",
            "BEST AUC score:  0.7052365791352156\n"
          ]
        }
      ]
    },
    {
      "cell_type": "markdown",
      "source": [
        "**Plotting Hyperparameter(log alpha) VS AUC**"
      ],
      "metadata": {
        "id": "hjwgIb-cZoAZ"
      }
    },
    {
      "cell_type": "code",
      "source": [
        "alphas = np.array([0.00001, 0.00005, 0.0001, 0.0005, 0.001, 0.005, 0.01, 0.05, 0.1, 0.5, 1, 5, 10, 50, 100, 500, 1000, 2500, 5000, 10000])\n",
        "log_alpha = np.log10(alphas)"
      ],
      "metadata": {
        "id": "5xTMRB1xWNt5"
      },
      "execution_count": 73,
      "outputs": []
    },
    {
      "cell_type": "code",
      "source": [
        "plt.figure(figsize=(10, 7))\n",
        "plt.plot(log_alpha, train_auc, label = 'Train AUC', linewidth = 3)\n",
        "plt.gca().fill_between(log_alpha, train_auc - train_auc_std, train_auc + train_auc_std, alpha = 0.6, color = 'darkblue')\n",
        "\n",
        "plt.plot(log_alpha, cv_auc, label = 'CV AUC', linewidth = 3)\n",
        "plt.gca().fill_between(log_alpha, cv_auc - cv_auc_std, cv_auc + cv_auc_std, alpha = 0.6, color='darkorange')\n",
        "\n",
        "plt.scatter(log_alpha, train_auc, label = 'Train AUC points')\n",
        "plt.scatter(log_alpha, cv_auc, label = 'CV AUC points')\n",
        "\n",
        "plt.legend()\n",
        "plt.grid(True)\n",
        "plt.xlabel(\"Hyperparameter - Alpha(log scale)\")\n",
        "plt.ylabel(\"AUC\")\n",
        "plt.title(\"Hyperparameter(alpha) v/s AUC\")\n",
        "plt.show()"
      ],
      "metadata": {
        "colab": {
          "base_uri": "https://localhost:8080/",
          "height": 458
        },
        "id": "2OqEinIkEewm",
        "outputId": "8b96a7ae-5c7b-4adc-84da-696e9b438b59"
      },
      "execution_count": 91,
      "outputs": [
        {
          "output_type": "display_data",
          "data": {
            "text/plain": [
              "<Figure size 720x504 with 1 Axes>"
            ],
            "image/png": "[encoded data removed]"
          },
          "metadata": {}
        }
      ]
    },
    {
      "cell_type": "markdown",
      "source": [
        "**Fitting the model with best hyperparameters**"
      ],
      "metadata": {
        "id": "q3TdMjj8Z91e"
      }
    },
    {
      "cell_type": "code",
      "execution_count": 92,
      "metadata": {
        "colab": {
          "base_uri": "https://localhost:8080/"
        },
        "id": "5jHu4Vw3BXoJ",
        "outputId": "0093ce3f-ccee-488f-cd88-374bc8919b4c"
      },
      "outputs": [
        {
          "output_type": "execute_result",
          "data": {
            "text/plain": [
              "MultinomialNB(alpha=0.5, class_prior=[0.5, 0.5])"
            ]
          },
          "metadata": {},
          "execution_count": 92
        }
      ],
      "source": [
        "mnb_bow_best = MultinomialNB(alpha = bestalpha_1, class_prior = [0.5, 0.5])\n",
        "mnb_bow_best.fit(x_train_onehot_bow, y_train)"
      ]
    },
    {
      "cell_type": "markdown",
      "source": [
        "**Hyperparameter- AUC Plot**"
      ],
      "metadata": {
        "id": "JiGpLGlWyoTI"
      }
    },
    {
      "cell_type": "code",
      "source": [
        "y_train_pred = mnb_bow_best.predict_proba(x_train_onehot_bow)[:,1]\n",
        "y_test_pred = mnb_bow_best.predict_proba(x_test_onehot_bow)[:,1]\n",
        "\n",
        "train_fpr, train_tpr, tr_thresholds = roc_curve(y_train, y_train_pred)\n",
        "test_fpr, test_tpr, te_thresholds = roc_curve(y_test, y_test_pred)"
      ],
      "metadata": {
        "id": "4f-aI9DUZ8S2"
      },
      "execution_count": 95,
      "outputs": []
    },
    {
      "cell_type": "code",
      "source": [
        "plt.figure(figsize=(10, 7))\n",
        "\n",
        "auc_bow_train = auc(train_fpr, train_tpr)\n",
        "auc_bow_test = auc(test_fpr, test_tpr)\n",
        "\n",
        "plt.plot(train_fpr, train_tpr, label = \"Train AUC = \"+str(auc(train_fpr, train_tpr)), linewidth = 4)\n",
        "plt.plot(test_fpr, test_tpr, label = \"Test AUC = \"+str(auc(test_fpr, test_tpr)), linewidth = 4)\n",
        "\n",
        "plt.xlabel(\"False Positive Rate(FPR)\")\n",
        "plt.ylabel(\"True Positive Rate(TPR)\")\n",
        "plt.title(\"AUC\")\n",
        "plt.grid(True)\n",
        "plt.legend()\n",
        "plt.show()"
      ],
      "metadata": {
        "colab": {
          "base_uri": "https://localhost:8080/",
          "height": 458
        },
        "id": "G7vKFlZtc0Fh",
        "outputId": "88c8acad-651a-4c21-dd91-af42e2087984"
      },
      "execution_count": 97,
      "outputs": [
        {
          "output_type": "display_data",
          "data": {
            "text/plain": [
              "<Figure size 720x504 with 1 Axes>"
            ],
            "image/png": "[encoded data removed]"
          },
          "metadata": {}
        }
      ]
    },
    {
      "cell_type": "markdown",
      "source": [
        "**Find best threshold using TPR, FPR**"
      ],
      "metadata": {
        "id": "ukeD_9gly8tN"
      }
    },
    {
      "cell_type": "code",
      "execution_count": 110,
      "metadata": {
        "id": "PqJ5N3gGBXoJ"
      },
      "outputs": [],
      "source": [
        "def predict_best_labels(y_predicted, threshold, fpr, tpr):\n",
        "    best_threshold = threshold[np.argmax(tpr*(1-fpr))]  # (tpr*(1-fpr)) will be maximum if fpr is low and tpr is high\n",
        "    predictions = list()\n",
        "    for y_hat in y_predicted:\n",
        "        if y_hat >= best_threshold:\n",
        "            predictions.append(1)\n",
        "        else:\n",
        "            predictions.append(0)\n",
        "    return predictions"
      ]
    },
    {
      "cell_type": "markdown",
      "source": [
        "**Confusion Matrix**"
      ],
      "metadata": {
        "id": "Jt7Mo9kkFKKs"
      }
    },
    {
      "cell_type": "code",
      "source": [
        "cm_train = np.matrix(confusion_matrix(y_train, predict_best_labels(y_train_pred, tr_thresholds, train_fpr, train_tpr)))\n",
        "cm_test = np.matrix(confusion_matrix(y_test, predict_best_labels(y_test_pred, tr_thresholds, test_fpr, test_tpr)))\n",
        "\n",
        "fig, ax = plt.subplots(1, 2, figsize=(20, 7))\n",
        "sns.heatmap(cm_train, annot = True, annot_kws = {\"size\": 26}, fmt = 'g', cmap = \"Accent_r\", ax = ax[0], linewidths = 3, linecolor = 'black')\n",
        "sns.heatmap(cm_test, annot = True, annot_kws = {\"size\": 26}, fmt = 'g', cmap = \"gist_earth\", ax = ax[1], linewidths = 3, linecolor = 'black')\n",
        "ax[0].set_title('Confusion Matrix - Train')\n",
        "ax[1].set_title('Confusion Matrix - Test')\n",
        "ax[0].set_xlabel('Predicted')\n",
        "ax[0].set_ylabel('Actual')\n",
        "ax[1].set_xlabel('Predicted')\n",
        "ax[1].set_ylabel('Actual')\n",
        "plt.plot()"
      ],
      "metadata": {
        "colab": {
          "base_uri": "https://localhost:8080/",
          "height": 495
        },
        "id": "0vzfuL8PFHws",
        "outputId": "d76817e1-ada9-4036-be96-8c78d865c1cc"
      },
      "execution_count": 122,
      "outputs": [
        {
          "output_type": "execute_result",
          "data": {
            "text/plain": [
              "[]"
            ]
          },
          "metadata": {},
          "execution_count": 122
        },
        {
          "output_type": "display_data",
          "data": {
            "text/plain": [
              "<Figure size 1440x504 with 4 Axes>"
            ],
            "image/png": "[encoded data removed]"
          },
          "metadata": {}
        }
      ]
    },
    {
      "cell_type": "markdown",
      "metadata": {
        "id": "0MLN96U7BXoJ"
      },
      "source": [
        "**Feature Importance -  Top 10 features:**"
      ]
    },
    {
      "cell_type": "code",
      "execution_count": 133,
      "metadata": {
        "id": "sxsjZk1ABXoK"
      },
      "outputs": [],
      "source": [
        "fea_bow = fea_vectorizer_essay_bow + fea_vectorizer_sub + fea_vectorizer_sub_sub + fea_vectorizer_state + fea_vectorizer_teacher + fea_vectorizer_grade + [\"price\", \"teacher_number_of_previously_posted_projects\"]"
      ]
    },
    {
      "cell_type": "markdown",
      "source": [
        "According to positive label:"
      ],
      "metadata": {
        "id": "t7G6KixTqoei"
      }
    },
    {
      "cell_type": "code",
      "source": [
        "bow_features_probs_pos = dict()\n",
        "for feature_number in range(len(fea_bow)) :\n",
        "    bow_features_probs_pos[feature_number] = mnb_bow_best.feature_log_prob_[1, feature_number]\n",
        "\n",
        "final_bow_features_pos = pd.DataFrame({ 'feature_names' : fea_bow, 'feature_probability' : bow_features_probs_pos.values()})\n",
        "top_10_features_pos = final_bow_features_pos.sort_values(by = ['feature_probability'], ascending = False)\n",
        "top_10_features_pos.head(10)"
      ],
      "metadata": {
        "colab": {
          "base_uri": "https://localhost:8080/",
          "height": 363
        },
        "id": "EjIXFDL7p5zQ",
        "outputId": "2d1d4bdc-7b93-4a59-bcfe-b72ea4223aa7"
      },
      "execution_count": 130,
      "outputs": [
        {
          "output_type": "execute_result",
          "data": {
            "text/plain": [
              "      feature_names  feature_probability\n",
              "13199        sugars            -3.045696\n",
              "11985      secretly            -4.191009\n",
              "9011     negotiable            -4.499153\n",
              "7951       lifelong            -4.550111\n",
              "2658         coffee            -4.579022\n",
              "13728        thumbs            -4.807596\n",
              "13767     timelines            -4.847616\n",
              "9246   observations            -4.847873\n",
              "7947           lieu            -4.891895\n",
              "6561         holder            -4.921655"
            ],
            "text/html": [
              "\n",
              "  <div id=\"df-fb88deaf-e35d-4988-92ae-d2d9be12c325\">\n",
              "    <div class=\"colab-df-container\">\n",
              "      <div>\n",
              "<style scoped>\n",
              "    .dataframe tbody tr th:only-of-type {\n",
              "        vertical-align: middle;\n",
              "    }\n",
              "\n",
              "    .dataframe tbody tr th {\n",
              "        vertical-align: top;\n",
              "    }\n",
              "\n",
              "    .dataframe thead th {\n",
              "        text-align: right;\n",
              "    }\n",
              "</style>\n",
              "<table border=\"1\" class=\"dataframe\">\n",
              "  <thead>\n",
              "    <tr style=\"text-align: right;\">\n",
              "      <th></th>\n",
              "      <th>feature_names</th>\n",
              "      <th>feature_probability</th>\n",
              "    </tr>\n",
              "  </thead>\n",
              "  <tbody>\n",
              "    <tr>\n",
              "      <th>13199</th>\n",
              "      <td>sugars</td>\n",
              "      <td>-3.045696</td>\n",
              "    </tr>\n",
              "    <tr>\n",
              "      <th>11985</th>\n",
              "      <td>secretly</td>\n",
              "      <td>-4.191009</td>\n",
              "    </tr>\n",
              "    <tr>\n",
              "      <th>9011</th>\n",
              "      <td>negotiable</td>\n",
              "      <td>-4.499153</td>\n",
              "    </tr>\n",
              "    <tr>\n",
              "      <th>7951</th>\n",
              "      <td>lifelong</td>\n",
              "      <td>-4.550111</td>\n",
              "    </tr>\n",
              "    <tr>\n",
              "      <th>2658</th>\n",
              "      <td>coffee</td>\n",
              "      <td>-4.579022</td>\n",
              "    </tr>\n",
              "    <tr>\n",
              "      <th>13728</th>\n",
              "      <td>thumbs</td>\n",
              "      <td>-4.807596</td>\n",
              "    </tr>\n",
              "    <tr>\n",
              "      <th>13767</th>\n",
              "      <td>timelines</td>\n",
              "      <td>-4.847616</td>\n",
              "    </tr>\n",
              "    <tr>\n",
              "      <th>9246</th>\n",
              "      <td>observations</td>\n",
              "      <td>-4.847873</td>\n",
              "    </tr>\n",
              "    <tr>\n",
              "      <th>7947</th>\n",
              "      <td>lieu</td>\n",
              "      <td>-4.891895</td>\n",
              "    </tr>\n",
              "    <tr>\n",
              "      <th>6561</th>\n",
              "      <td>holder</td>\n",
              "      <td>-4.921655</td>\n",
              "    </tr>\n",
              "  </tbody>\n",
              "</table>\n",
              "</div>\n",
              "      <button class=\"colab-df-convert\" onclick=\"convertToInteractive('df-fb88deaf-e35d-4988-92ae-d2d9be12c325')\"\n",
              "              title=\"Convert this dataframe to an interactive table.\"\n",
              "              style=\"display:none;\">\n",
              "        \n",
              "  <svg xmlns=\"http://www.w3.org/2000/svg\" height=\"24px\"viewBox=\"0 0 24 24\"\n",
              "       width=\"24px\">\n",
              "    <path d=\"M0 0h24v24H0V0z\" fill=\"none\"/>\n",
              "    <path d=\"M18.56 5.44l.94 2.06.94-2.06 2.06-.94-2.06-.94-.94-2.06-.94 2.06-2.06.94zm-11 1L8.5 8.5l.94-2.06 2.06-.94-2.06-.94L8.5 2.5l-.94 2.06-2.06.94zm10 10l.94 2.06.94-2.06 2.06-.94-2.06-.94-.94-2.06-.94 2.06-2.06.94z\"/><path d=\"M17.41 7.96l-1.37-1.37c-.4-.4-.92-.59-1.43-.59-.52 0-1.04.2-1.43.59L10.3 9.45l-7.72 7.72c-.78.78-.78 2.05 0 2.83L4 21.41c.39.39.9.59 1.41.59.51 0 1.02-.2 1.41-.59l7.78-7.78 2.81-2.81c.8-.78.8-2.07 0-2.86zM5.41 20L4 18.59l7.72-7.72 1.47 1.35L5.41 20z\"/>\n",
              "  </svg>\n",
              "      </button>\n",
              "      \n",
              "  <style>\n",
              "    .colab-df-container {\n",
              "      display:flex;\n",
              "      flex-wrap:wrap;\n",
              "      gap: 12px;\n",
              "    }\n",
              "\n",
              "    .colab-df-convert {\n",
              "      background-color: #E8F0FE;\n",
              "      border: none;\n",
              "      border-radius: 50%;\n",
              "      cursor: pointer;\n",
              "      display: none;\n",
              "      fill: #1967D2;\n",
              "      height: 32px;\n",
              "      padding: 0 0 0 0;\n",
              "      width: 32px;\n",
              "    }\n",
              "\n",
              "    .colab-df-convert:hover {\n",
              "      background-color: #E2EBFA;\n",
              "      box-shadow: 0px 1px 2px rgba(60, 64, 67, 0.3), 0px 1px 3px 1px rgba(60, 64, 67, 0.15);\n",
              "      fill: #174EA6;\n",
              "    }\n",
              "\n",
              "    [theme=dark] .colab-df-convert {\n",
              "      background-color: #3B4455;\n",
              "      fill: #D2E3FC;\n",
              "    }\n",
              "\n",
              "    [theme=dark] .colab-df-convert:hover {\n",
              "      background-color: #434B5C;\n",
              "      box-shadow: 0px 1px 3px 1px rgba(0, 0, 0, 0.15);\n",
              "      filter: drop-shadow(0px 1px 2px rgba(0, 0, 0, 0.3));\n",
              "      fill: #FFFFFF;\n",
              "    }\n",
              "  </style>\n",
              "\n",
              "      <script>\n",
              "        const buttonEl =\n",
              "          document.querySelector('#df-fb88deaf-e35d-4988-92ae-d2d9be12c325 button.colab-df-convert');\n",
              "        buttonEl.style.display =\n",
              "          google.colab.kernel.accessAllowed ? 'block' : 'none';\n",
              "\n",
              "        async function convertToInteractive(key) {\n",
              "          const element = document.querySelector('#df-fb88deaf-e35d-4988-92ae-d2d9be12c325');\n",
              "          const dataTable =\n",
              "            await google.colab.kernel.invokeFunction('convertToInteractive',\n",
              "                                                     [key], {});\n",
              "          if (!dataTable) return;\n",
              "\n",
              "          const docLinkHtml = 'Like what you see? Visit the ' +\n",
              "            '<a target=\"_blank\" href=https://colab.research.google.com/notebooks/data_table.ipynb>data table notebook</a>'\n",
              "            + ' to learn more about interactive tables.';\n",
              "          element.innerHTML = '';\n",
              "          dataTable['output_type'] = 'display_data';\n",
              "          await google.colab.output.renderOutput(dataTable, element);\n",
              "          const docLink = document.createElement('div');\n",
              "          docLink.innerHTML = docLinkHtml;\n",
              "          element.appendChild(docLink);\n",
              "        }\n",
              "      </script>\n",
              "    </div>\n",
              "  </div>\n",
              "  "
            ]
          },
          "metadata": {},
          "execution_count": 130
        }
      ]
    },
    {
      "cell_type": "markdown",
      "source": [
        "According to negative label:"
      ],
      "metadata": {
        "id": "xUNQS3bLqtjC"
      }
    },
    {
      "cell_type": "code",
      "source": [
        "bow_features_probs_neg = dict()\n",
        "for feature_number in range(len(fea_bow)) :\n",
        "    bow_features_probs_neg[feature_number] = mnb_bow_best.feature_log_prob_[0, feature_number]\n",
        "\n",
        "final_bow_features_neg = pd.DataFrame({ 'feature_names' : fea_bow, 'feature_probability' : bow_features_probs_neg.values()})\n",
        "top_10_features_neg = final_bow_features_neg.sort_values(by = ['feature_probability'], ascending = False)\n",
        "top_10_features_neg.head(10)"
      ],
      "metadata": {
        "colab": {
          "base_uri": "https://localhost:8080/",
          "height": 363
        },
        "id": "kK3zZ_OQp_dm",
        "outputId": "ec673d09-2448-44eb-eccb-bee257e96da8"
      },
      "execution_count": 132,
      "outputs": [
        {
          "output_type": "execute_result",
          "data": {
            "text/plain": [
              "      feature_names  feature_probability\n",
              "13199        sugars            -3.058331\n",
              "11985      secretly            -4.156007\n",
              "7951       lifelong            -4.474694\n",
              "9011     negotiable            -4.519116\n",
              "2658         coffee            -4.622385\n",
              "9246   observations            -4.821693\n",
              "7947           lieu            -4.829115\n",
              "13767     timelines            -4.859702\n",
              "6561         holder            -4.870109\n",
              "13728        thumbs            -4.874709"
            ],
            "text/html": [
              "\n",
              "  <div id=\"df-d09f98ab-de3f-489b-a22d-b5e0e5edd817\">\n",
              "    <div class=\"colab-df-container\">\n",
              "      <div>\n",
              "<style scoped>\n",
              "    .dataframe tbody tr th:only-of-type {\n",
              "        vertical-align: middle;\n",
              "    }\n",
              "\n",
              "    .dataframe tbody tr th {\n",
              "        vertical-align: top;\n",
              "    }\n",
              "\n",
              "    .dataframe thead th {\n",
              "        text-align: right;\n",
              "    }\n",
              "</style>\n",
              "<table border=\"1\" class=\"dataframe\">\n",
              "  <thead>\n",
              "    <tr style=\"text-align: right;\">\n",
              "      <th></th>\n",
              "      <th>feature_names</th>\n",
              "      <th>feature_probability</th>\n",
              "    </tr>\n",
              "  </thead>\n",
              "  <tbody>\n",
              "    <tr>\n",
              "      <th>13199</th>\n",
              "      <td>sugars</td>\n",
              "      <td>-3.058331</td>\n",
              "    </tr>\n",
              "    <tr>\n",
              "      <th>11985</th>\n",
              "      <td>secretly</td>\n",
              "      <td>-4.156007</td>\n",
              "    </tr>\n",
              "    <tr>\n",
              "      <th>7951</th>\n",
              "      <td>lifelong</td>\n",
              "      <td>-4.474694</td>\n",
              "    </tr>\n",
              "    <tr>\n",
              "      <th>9011</th>\n",
              "      <td>negotiable</td>\n",
              "      <td>-4.519116</td>\n",
              "    </tr>\n",
              "    <tr>\n",
              "      <th>2658</th>\n",
              "      <td>coffee</td>\n",
              "      <td>-4.622385</td>\n",
              "    </tr>\n",
              "    <tr>\n",
              "      <th>9246</th>\n",
              "      <td>observations</td>\n",
              "      <td>-4.821693</td>\n",
              "    </tr>\n",
              "    <tr>\n",
              "      <th>7947</th>\n",
              "      <td>lieu</td>\n",
              "      <td>-4.829115</td>\n",
              "    </tr>\n",
              "    <tr>\n",
              "      <th>13767</th>\n",
              "      <td>timelines</td>\n",
              "      <td>-4.859702</td>\n",
              "    </tr>\n",
              "    <tr>\n",
              "      <th>6561</th>\n",
              "      <td>holder</td>\n",
              "      <td>-4.870109</td>\n",
              "    </tr>\n",
              "    <tr>\n",
              "      <th>13728</th>\n",
              "      <td>thumbs</td>\n",
              "      <td>-4.874709</td>\n",
              "    </tr>\n",
              "  </tbody>\n",
              "</table>\n",
              "</div>\n",
              "      <button class=\"colab-df-convert\" onclick=\"convertToInteractive('df-d09f98ab-de3f-489b-a22d-b5e0e5edd817')\"\n",
              "              title=\"Convert this dataframe to an interactive table.\"\n",
              "              style=\"display:none;\">\n",
              "        \n",
              "  <svg xmlns=\"http://www.w3.org/2000/svg\" height=\"24px\"viewBox=\"0 0 24 24\"\n",
              "       width=\"24px\">\n",
              "    <path d=\"M0 0h24v24H0V0z\" fill=\"none\"/>\n",
              "    <path d=\"M18.56 5.44l.94 2.06.94-2.06 2.06-.94-2.06-.94-.94-2.06-.94 2.06-2.06.94zm-11 1L8.5 8.5l.94-2.06 2.06-.94-2.06-.94L8.5 2.5l-.94 2.06-2.06.94zm10 10l.94 2.06.94-2.06 2.06-.94-2.06-.94-.94-2.06-.94 2.06-2.06.94z\"/><path d=\"M17.41 7.96l-1.37-1.37c-.4-.4-.92-.59-1.43-.59-.52 0-1.04.2-1.43.59L10.3 9.45l-7.72 7.72c-.78.78-.78 2.05 0 2.83L4 21.41c.39.39.9.59 1.41.59.51 0 1.02-.2 1.41-.59l7.78-7.78 2.81-2.81c.8-.78.8-2.07 0-2.86zM5.41 20L4 18.59l7.72-7.72 1.47 1.35L5.41 20z\"/>\n",
              "  </svg>\n",
              "      </button>\n",
              "      \n",
              "  <style>\n",
              "    .colab-df-container {\n",
              "      display:flex;\n",
              "      flex-wrap:wrap;\n",
              "      gap: 12px;\n",
              "    }\n",
              "\n",
              "    .colab-df-convert {\n",
              "      background-color: #E8F0FE;\n",
              "      border: none;\n",
              "      border-radius: 50%;\n",
              "      cursor: pointer;\n",
              "      display: none;\n",
              "      fill: #1967D2;\n",
              "      height: 32px;\n",
              "      padding: 0 0 0 0;\n",
              "      width: 32px;\n",
              "    }\n",
              "\n",
              "    .colab-df-convert:hover {\n",
              "      background-color: #E2EBFA;\n",
              "      box-shadow: 0px 1px 2px rgba(60, 64, 67, 0.3), 0px 1px 3px 1px rgba(60, 64, 67, 0.15);\n",
              "      fill: #174EA6;\n",
              "    }\n",
              "\n",
              "    [theme=dark] .colab-df-convert {\n",
              "      background-color: #3B4455;\n",
              "      fill: #D2E3FC;\n",
              "    }\n",
              "\n",
              "    [theme=dark] .colab-df-convert:hover {\n",
              "      background-color: #434B5C;\n",
              "      box-shadow: 0px 1px 3px 1px rgba(0, 0, 0, 0.15);\n",
              "      filter: drop-shadow(0px 1px 2px rgba(0, 0, 0, 0.3));\n",
              "      fill: #FFFFFF;\n",
              "    }\n",
              "  </style>\n",
              "\n",
              "      <script>\n",
              "        const buttonEl =\n",
              "          document.querySelector('#df-d09f98ab-de3f-489b-a22d-b5e0e5edd817 button.colab-df-convert');\n",
              "        buttonEl.style.display =\n",
              "          google.colab.kernel.accessAllowed ? 'block' : 'none';\n",
              "\n",
              "        async function convertToInteractive(key) {\n",
              "          const element = document.querySelector('#df-d09f98ab-de3f-489b-a22d-b5e0e5edd817');\n",
              "          const dataTable =\n",
              "            await google.colab.kernel.invokeFunction('convertToInteractive',\n",
              "                                                     [key], {});\n",
              "          if (!dataTable) return;\n",
              "\n",
              "          const docLinkHtml = 'Like what you see? Visit the ' +\n",
              "            '<a target=\"_blank\" href=https://colab.research.google.com/notebooks/data_table.ipynb>data table notebook</a>'\n",
              "            + ' to learn more about interactive tables.';\n",
              "          element.innerHTML = '';\n",
              "          dataTable['output_type'] = 'display_data';\n",
              "          await google.colab.output.renderOutput(dataTable, element);\n",
              "          const docLink = document.createElement('div');\n",
              "          docLink.innerHTML = docLinkHtml;\n",
              "          element.appendChild(docLink);\n",
              "        }\n",
              "      </script>\n",
              "    </div>\n",
              "  </div>\n",
              "  "
            ]
          },
          "metadata": {},
          "execution_count": 132
        }
      ]
    },
    {
      "cell_type": "markdown",
      "source": [
        "#Training model using TFIDF features(for text data)"
      ],
      "metadata": {
        "id": "atAGE2HfxCH5"
      }
    },
    {
      "cell_type": "markdown",
      "source": [
        "**Stacking all the processed features using scipy sparse hstack, with essay as TFIDF featurized**"
      ],
      "metadata": {
        "id": "OS2s7nMOrg2u"
      }
    },
    {
      "cell_type": "code",
      "execution_count": 134,
      "metadata": {
        "colab": {
          "base_uri": "https://localhost:8080/"
        },
        "id": "fc5tlyU8BXoH",
        "outputId": "7f3d6b3f-2711-468d-8d67-73842f71003a"
      },
      "outputs": [
        {
          "output_type": "stream",
          "name": "stdout",
          "text": [
            "Type -> One Hot -> x_train:  <class 'scipy.sparse.coo.coo_matrix'>\n",
            "Type -> One Hot -> x_test :  <class 'scipy.sparse.coo.coo_matrix'>\n",
            "\n",
            "\n",
            "Shape -> One Hot -> x_train:  (87398, 15316)\n",
            "Shape -> One Hot -> x_test :  (21850, 15316)\n"
          ]
        }
      ],
      "source": [
        "x_train_onehot_tfidf = hstack((x_train_categories_one_hot, x_train_sub_categories_one_hot, x_train_school_state_one_hot, x_train_teacher_prefix_one_hot, x_train_grade_category_one_hot, x_train_price_normalized, x_train_teacher_number_of_previously_posted_projects_normalized, x_train_essay_tfidf))\n",
        "x_test_onehot_tfidf  = hstack((x_test_categories_one_hot, x_test_sub_categories_one_hot, x_test_school_state_one_hot, x_test_teacher_prefix_one_hot, x_test_grade_category_one_hot, x_test_price_normalized, x_test_teacher_number_of_previously_posted_projects_normalized, x_test_essay_tfidf))\n",
        "\n",
        "print(\"Type -> One Hot -> x_train: \",type(x_train_onehot_tfidf))\n",
        "print(\"Type -> One Hot -> x_test : \",type(x_test_onehot_tfidf))\n",
        "print(\"\\n\")\n",
        "print(\"Shape -> One Hot -> x_train: \",x_train_onehot_tfidf.shape)\n",
        "print(\"Shape -> One Hot -> x_test : \",x_test_onehot_tfidf.shape)"
      ]
    },
    {
      "cell_type": "markdown",
      "source": [
        "**GridSearchCV - Train model to find best Hyperparameters**"
      ],
      "metadata": {
        "id": "jIr3256uzXdS"
      }
    },
    {
      "cell_type": "code",
      "source": [
        "mnb_bow = MultinomialNB(class_prior = [0.5, 0.5])\n",
        "hyperparameter = {'alpha':[0.00001, 0.00005, 0.0001, 0.0005, 0.001, 0.005, 0.01, 0.05, 0.1, 0.5, 1, 5, 10, 50, 100, 500, 1000, 2500, 5000, 10000]}\n",
        "clf = GridSearchCV(mnb_bow, hyperparameter, cv = 10, scoring = 'roc_auc', verbose = 1, return_train_score = True, n_jobs = -1)\n",
        "clf.fit(x_train_onehot_tfidf, y_train)"
      ],
      "metadata": {
        "colab": {
          "base_uri": "https://localhost:8080/"
        },
        "id": "zGmoqW2Mrvg9",
        "outputId": "3db12297-2d6f-4bc5-f0e1-6e0c916760ee"
      },
      "execution_count": 135,
      "outputs": [
        {
          "output_type": "stream",
          "name": "stdout",
          "text": [
            "Fitting 10 folds for each of 20 candidates, totalling 200 fits\n"
          ]
        },
        {
          "output_type": "execute_result",
          "data": {
            "text/plain": [
              "GridSearchCV(cv=10, estimator=MultinomialNB(class_prior=[0.5, 0.5]), n_jobs=-1,\n",
              "             param_grid={'alpha': [1e-05, 5e-05, 0.0001, 0.0005, 0.001, 0.005,\n",
              "                                   0.01, 0.05, 0.1, 0.5, 1, 5, 10, 50, 100, 500,\n",
              "                                   1000, 2500, 5000, 10000]},\n",
              "             return_train_score=True, scoring='roc_auc', verbose=1)"
            ]
          },
          "metadata": {},
          "execution_count": 135
        }
      ]
    },
    {
      "cell_type": "markdown",
      "source": [
        "**GridSearchCV result:**"
      ],
      "metadata": {
        "id": "HXmJlPdLzZ4U"
      }
    },
    {
      "cell_type": "code",
      "source": [
        "train_auc = clf.cv_results_['mean_train_score']\n",
        "train_auc_std = clf.cv_results_['std_train_score']\n",
        "cv_auc = clf.cv_results_['mean_test_score']\n",
        "cv_auc_std = clf.cv_results_['std_test_score']\n",
        "bestalpha_2 = clf.best_params_['alpha']\n",
        "bestScore_2 = clf.best_score_\n",
        "print(\"BEST ALPHA value: \", clf.best_params_['alpha'])   #clf.best_estimator_.alpha\n",
        "print(\"BEST AUC score: \", clf.best_score_)"
      ],
      "metadata": {
        "colab": {
          "base_uri": "https://localhost:8080/"
        },
        "id": "a0ZQ8aJdr5KV",
        "outputId": "1aaa3c33-8c23-4e97-a02c-0c5590b5c437"
      },
      "execution_count": 136,
      "outputs": [
        {
          "output_type": "stream",
          "name": "stdout",
          "text": [
            "BEST ALPHA value:  0.05\n",
            "BEST AUC score:  0.6783041587816965\n"
          ]
        }
      ]
    },
    {
      "cell_type": "markdown",
      "source": [
        "**Plotting Hyperparameter(log alpha) VS AUC**"
      ],
      "metadata": {
        "id": "lesHUUxyzSEu"
      }
    },
    {
      "cell_type": "code",
      "source": [
        "plt.figure(figsize=(10, 7))\n",
        "plt.plot(log_alpha, train_auc, label = 'Train AUC', linewidth = 3)\n",
        "plt.gca().fill_between(log_alpha, train_auc - train_auc_std, train_auc + train_auc_std, alpha = 0.6, color = 'darkblue')\n",
        "\n",
        "plt.plot(log_alpha, cv_auc, label = 'CV AUC', linewidth = 3)\n",
        "plt.gca().fill_between(log_alpha, cv_auc - cv_auc_std, cv_auc + cv_auc_std, alpha = 0.6, color='darkorange')\n",
        "\n",
        "plt.scatter(log_alpha, train_auc, label = 'Train AUC points')\n",
        "plt.scatter(log_alpha, cv_auc, label = 'CV AUC points')\n",
        "\n",
        "plt.legend()\n",
        "plt.grid(True)\n",
        "plt.xlabel(\"Hyperparameter - Alpha(log scale)\")\n",
        "plt.ylabel(\"AUC\")\n",
        "plt.title(\"Hyperparameter(alpha) v/s AUC\")\n",
        "plt.show()"
      ],
      "metadata": {
        "colab": {
          "base_uri": "https://localhost:8080/",
          "height": 478
        },
        "id": "w98zIg8nsYAn",
        "outputId": "994bba0a-0def-4dfa-900a-5e8546cdfb12"
      },
      "execution_count": 137,
      "outputs": [
        {
          "output_type": "display_data",
          "data": {
            "text/plain": [
              "<Figure size 720x504 with 1 Axes>"
            ],
            "image/png": "[encoded data removed]"
          },
          "metadata": {}
        }
      ]
    },
    {
      "cell_type": "code",
      "source": [
        "mnb_tfidf_best = MultinomialNB(alpha = bestalpha_2, class_prior = [0.5, 0.5])\n",
        "mnb_tfidf_best.fit(x_train_onehot_bow, y_train)"
      ],
      "metadata": {
        "colab": {
          "base_uri": "https://localhost:8080/"
        },
        "id": "jPWPdAQFsnVL",
        "outputId": "62e36253-6fc1-4023-84c2-795bbb6fba67"
      },
      "execution_count": 138,
      "outputs": [
        {
          "output_type": "execute_result",
          "data": {
            "text/plain": [
              "MultinomialNB(alpha=0.05, class_prior=[0.5, 0.5])"
            ]
          },
          "metadata": {},
          "execution_count": 138
        }
      ]
    },
    {
      "cell_type": "markdown",
      "source": [
        "**Hyperparameter- AUC Plot**"
      ],
      "metadata": {
        "id": "ZSGOGE73zMFY"
      }
    },
    {
      "cell_type": "code",
      "source": [
        "y_train_pred = mnb_tfidf_best.predict_proba(x_train_onehot_bow)[:, 1]\n",
        "y_test_pred = mnb_tfidf_best.predict_proba(x_test_onehot_bow)[:, 1]\n",
        "\n",
        "train_fpr, train_tpr, tr_thresholds = roc_curve(y_train, y_train_pred)\n",
        "test_fpr, test_tpr, te_thresholds = roc_curve(y_test, y_test_pred)"
      ],
      "metadata": {
        "id": "ChzXXwgTs-a-"
      },
      "execution_count": 139,
      "outputs": []
    },
    {
      "cell_type": "code",
      "source": [
        "plt.figure(figsize=(10, 7))\n",
        "\n",
        "auc_tfidf_train = auc(train_fpr, train_tpr)\n",
        "auc_tfidf_test = auc(test_fpr, test_tpr)\n",
        "\n",
        "plt.plot(train_fpr, train_tpr, label = \"Train AUC = \"+str(auc_tfidf_train), linewidth = 4)\n",
        "plt.plot(test_fpr, test_tpr, label = \"Test AUC = \"+str(auc_tfidf_test), linewidth = 4)\n",
        "\n",
        "plt.xlabel(\"False Positive Rate(FPR)\")\n",
        "plt.ylabel(\"True Positive Rate(TPR)\")\n",
        "plt.title(\"AUC\")\n",
        "plt.grid(True)\n",
        "plt.legend()\n",
        "plt.show()"
      ],
      "metadata": {
        "colab": {
          "base_uri": "https://localhost:8080/",
          "height": 478
        },
        "id": "JtFqHRfLtHPc",
        "outputId": "53b55a01-ceb6-4885-a455-bf58646d937c"
      },
      "execution_count": 149,
      "outputs": [
        {
          "output_type": "display_data",
          "data": {
            "text/plain": [
              "<Figure size 720x504 with 1 Axes>"
            ],
            "image/png": "[encoded data removed]"
          },
          "metadata": {}
        }
      ]
    },
    {
      "cell_type": "markdown",
      "source": [
        "**Confusion Matrix**"
      ],
      "metadata": {
        "id": "ow1sNiBzFm_2"
      }
    },
    {
      "cell_type": "code",
      "source": [
        "cm_train = np.matrix(confusion_matrix(y_train, predict_best_labels(y_train_pred, tr_thresholds, train_fpr, train_tpr)))\n",
        "cm_test = np.matrix(confusion_matrix(y_test, predict_best_labels(y_test_pred, tr_thresholds, test_fpr, test_tpr)))\n",
        "\n",
        "fig, ax = plt.subplots(1, 2, figsize=(20, 7))\n",
        "sns.heatmap(cm_train, annot = True, annot_kws = {\"size\": 26}, fmt = 'g', cmap = \"Accent_r\", ax = ax[0], linewidths = 3, linecolor = 'black')\n",
        "sns.heatmap(cm_test, annot = True, annot_kws = {\"size\": 26}, fmt = 'g', cmap = \"gist_earth\", ax = ax[1], linewidths = 3, linecolor = 'black')\n",
        "ax[0].set_title('Confusion Matrix - Train')\n",
        "ax[1].set_title('Confusion Matrix - Test')\n",
        "ax[0].set_xlabel('Predicted')\n",
        "ax[0].set_ylabel('Actual')\n",
        "ax[1].set_xlabel('Predicted')\n",
        "ax[1].set_ylabel('Actual')\n",
        "plt.plot()"
      ],
      "metadata": {
        "colab": {
          "base_uri": "https://localhost:8080/",
          "height": 495
        },
        "id": "g3rVRT5FthdI",
        "outputId": "e45ede6c-b047-42f2-9ff3-76c5062fbc9c"
      },
      "execution_count": 141,
      "outputs": [
        {
          "output_type": "execute_result",
          "data": {
            "text/plain": [
              "[]"
            ]
          },
          "metadata": {},
          "execution_count": 141
        },
        {
          "output_type": "display_data",
          "data": {
            "text/plain": [
              "<Figure size 1440x504 with 4 Axes>"
            ],
            "image/png": "[encoded data removed]"
          },
          "metadata": {}
        }
      ]
    },
    {
      "cell_type": "markdown",
      "metadata": {
        "id": "JO_dy4hIBXoM"
      },
      "source": [
        "##Feature Importance - Top 10 features:"
      ]
    },
    {
      "cell_type": "code",
      "source": [
        "fea_tfidf = fea_vectorizer_essay_tfidf + fea_vectorizer_sub + fea_vectorizer_sub_sub + fea_vectorizer_state + fea_vectorizer_teacher + fea_vectorizer_grade + [\"price\", \"teacher_number_of_previously_posted_projects\"]"
      ],
      "metadata": {
        "id": "XwhJocVotzCu"
      },
      "execution_count": 142,
      "outputs": []
    },
    {
      "cell_type": "markdown",
      "source": [
        "According to positive label:"
      ],
      "metadata": {
        "id": "PVyv97XJuOZt"
      }
    },
    {
      "cell_type": "code",
      "source": [
        "tfidf_features_probs_pos = dict()\n",
        "for feature_number in range(len(fea_tfidf)) :\n",
        "    tfidf_features_probs_pos[feature_number] = mnb_tfidf_best.feature_log_prob_[1, feature_number]\n",
        "\n",
        "final_tfidf_features_pos = pd.DataFrame({ 'feature_names' : fea_tfidf, 'feature_probability' : tfidf_features_probs_pos.values()})\n",
        "top_10_features_pos = final_tfidf_features_pos.sort_values(by = ['feature_probability'], ascending = False)\n",
        "top_10_features_pos.head(10)"
      ],
      "metadata": {
        "colab": {
          "base_uri": "https://localhost:8080/",
          "height": 363
        },
        "id": "8eLy8AHkt-Ba",
        "outputId": "9efcffad-cf35-428c-ea8b-6bcc26ee135b"
      },
      "execution_count": 147,
      "outputs": [
        {
          "output_type": "execute_result",
          "data": {
            "text/plain": [
              "      feature_names  feature_probability\n",
              "13199        sugars            -3.045091\n",
              "11985      secretly            -4.190407\n",
              "9011     negotiable            -4.498552\n",
              "7951       lifelong            -4.549510\n",
              "2658         coffee            -4.578421\n",
              "13728        thumbs            -4.806996\n",
              "13767     timelines            -4.847016\n",
              "9246   observations            -4.847273\n",
              "7947           lieu            -4.891295\n",
              "6561         holder            -4.921056"
            ],
            "text/html": [
              "\n",
              "  <div id=\"df-896d8fd3-4804-4d73-88f6-678f423a8665\">\n",
              "    <div class=\"colab-df-container\">\n",
              "      <div>\n",
              "<style scoped>\n",
              "    .dataframe tbody tr th:only-of-type {\n",
              "        vertical-align: middle;\n",
              "    }\n",
              "\n",
              "    .dataframe tbody tr th {\n",
              "        vertical-align: top;\n",
              "    }\n",
              "\n",
              "    .dataframe thead th {\n",
              "        text-align: right;\n",
              "    }\n",
              "</style>\n",
              "<table border=\"1\" class=\"dataframe\">\n",
              "  <thead>\n",
              "    <tr style=\"text-align: right;\">\n",
              "      <th></th>\n",
              "      <th>feature_names</th>\n",
              "      <th>feature_probability</th>\n",
              "    </tr>\n",
              "  </thead>\n",
              "  <tbody>\n",
              "    <tr>\n",
              "      <th>13199</th>\n",
              "      <td>sugars</td>\n",
              "      <td>-3.045091</td>\n",
              "    </tr>\n",
              "    <tr>\n",
              "      <th>11985</th>\n",
              "      <td>secretly</td>\n",
              "      <td>-4.190407</td>\n",
              "    </tr>\n",
              "    <tr>\n",
              "      <th>9011</th>\n",
              "      <td>negotiable</td>\n",
              "      <td>-4.498552</td>\n",
              "    </tr>\n",
              "    <tr>\n",
              "      <th>7951</th>\n",
              "      <td>lifelong</td>\n",
              "      <td>-4.549510</td>\n",
              "    </tr>\n",
              "    <tr>\n",
              "      <th>2658</th>\n",
              "      <td>coffee</td>\n",
              "      <td>-4.578421</td>\n",
              "    </tr>\n",
              "    <tr>\n",
              "      <th>13728</th>\n",
              "      <td>thumbs</td>\n",
              "      <td>-4.806996</td>\n",
              "    </tr>\n",
              "    <tr>\n",
              "      <th>13767</th>\n",
              "      <td>timelines</td>\n",
              "      <td>-4.847016</td>\n",
              "    </tr>\n",
              "    <tr>\n",
              "      <th>9246</th>\n",
              "      <td>observations</td>\n",
              "      <td>-4.847273</td>\n",
              "    </tr>\n",
              "    <tr>\n",
              "      <th>7947</th>\n",
              "      <td>lieu</td>\n",
              "      <td>-4.891295</td>\n",
              "    </tr>\n",
              "    <tr>\n",
              "      <th>6561</th>\n",
              "      <td>holder</td>\n",
              "      <td>-4.921056</td>\n",
              "    </tr>\n",
              "  </tbody>\n",
              "</table>\n",
              "</div>\n",
              "      <button class=\"colab-df-convert\" onclick=\"convertToInteractive('df-896d8fd3-4804-4d73-88f6-678f423a8665')\"\n",
              "              title=\"Convert this dataframe to an interactive table.\"\n",
              "              style=\"display:none;\">\n",
              "        \n",
              "  <svg xmlns=\"http://www.w3.org/2000/svg\" height=\"24px\"viewBox=\"0 0 24 24\"\n",
              "       width=\"24px\">\n",
              "    <path d=\"M0 0h24v24H0V0z\" fill=\"none\"/>\n",
              "    <path d=\"M18.56 5.44l.94 2.06.94-2.06 2.06-.94-2.06-.94-.94-2.06-.94 2.06-2.06.94zm-11 1L8.5 8.5l.94-2.06 2.06-.94-2.06-.94L8.5 2.5l-.94 2.06-2.06.94zm10 10l.94 2.06.94-2.06 2.06-.94-2.06-.94-.94-2.06-.94 2.06-2.06.94z\"/><path d=\"M17.41 7.96l-1.37-1.37c-.4-.4-.92-.59-1.43-.59-.52 0-1.04.2-1.43.59L10.3 9.45l-7.72 7.72c-.78.78-.78 2.05 0 2.83L4 21.41c.39.39.9.59 1.41.59.51 0 1.02-.2 1.41-.59l7.78-7.78 2.81-2.81c.8-.78.8-2.07 0-2.86zM5.41 20L4 18.59l7.72-7.72 1.47 1.35L5.41 20z\"/>\n",
              "  </svg>\n",
              "      </button>\n",
              "      \n",
              "  <style>\n",
              "    .colab-df-container {\n",
              "      display:flex;\n",
              "      flex-wrap:wrap;\n",
              "      gap: 12px;\n",
              "    }\n",
              "\n",
              "    .colab-df-convert {\n",
              "      background-color: #E8F0FE;\n",
              "      border: none;\n",
              "      border-radius: 50%;\n",
              "      cursor: pointer;\n",
              "      display: none;\n",
              "      fill: #1967D2;\n",
              "      height: 32px;\n",
              "      padding: 0 0 0 0;\n",
              "      width: 32px;\n",
              "    }\n",
              "\n",
              "    .colab-df-convert:hover {\n",
              "      background-color: #E2EBFA;\n",
              "      box-shadow: 0px 1px 2px rgba(60, 64, 67, 0.3), 0px 1px 3px 1px rgba(60, 64, 67, 0.15);\n",
              "      fill: #174EA6;\n",
              "    }\n",
              "\n",
              "    [theme=dark] .colab-df-convert {\n",
              "      background-color: #3B4455;\n",
              "      fill: #D2E3FC;\n",
              "    }\n",
              "\n",
              "    [theme=dark] .colab-df-convert:hover {\n",
              "      background-color: #434B5C;\n",
              "      box-shadow: 0px 1px 3px 1px rgba(0, 0, 0, 0.15);\n",
              "      filter: drop-shadow(0px 1px 2px rgba(0, 0, 0, 0.3));\n",
              "      fill: #FFFFFF;\n",
              "    }\n",
              "  </style>\n",
              "\n",
              "      <script>\n",
              "        const buttonEl =\n",
              "          document.querySelector('#df-896d8fd3-4804-4d73-88f6-678f423a8665 button.colab-df-convert');\n",
              "        buttonEl.style.display =\n",
              "          google.colab.kernel.accessAllowed ? 'block' : 'none';\n",
              "\n",
              "        async function convertToInteractive(key) {\n",
              "          const element = document.querySelector('#df-896d8fd3-4804-4d73-88f6-678f423a8665');\n",
              "          const dataTable =\n",
              "            await google.colab.kernel.invokeFunction('convertToInteractive',\n",
              "                                                     [key], {});\n",
              "          if (!dataTable) return;\n",
              "\n",
              "          const docLinkHtml = 'Like what you see? Visit the ' +\n",
              "            '<a target=\"_blank\" href=https://colab.research.google.com/notebooks/data_table.ipynb>data table notebook</a>'\n",
              "            + ' to learn more about interactive tables.';\n",
              "          element.innerHTML = '';\n",
              "          dataTable['output_type'] = 'display_data';\n",
              "          await google.colab.output.renderOutput(dataTable, element);\n",
              "          const docLink = document.createElement('div');\n",
              "          docLink.innerHTML = docLinkHtml;\n",
              "          element.appendChild(docLink);\n",
              "        }\n",
              "      </script>\n",
              "    </div>\n",
              "  </div>\n",
              "  "
            ]
          },
          "metadata": {},
          "execution_count": 147
        }
      ]
    },
    {
      "cell_type": "markdown",
      "source": [
        "According to neagtive label:"
      ],
      "metadata": {
        "id": "j1KpsqH_unhk"
      }
    },
    {
      "cell_type": "code",
      "source": [
        "tfidf_features_probs_neg = dict()\n",
        "for feature_number in range(len(fea_tfidf)) :\n",
        "    tfidf_features_probs_neg[feature_number] = mnb_tfidf_best.feature_log_prob_[0, feature_number]\n",
        "\n",
        "final_tfidf_features_neg = pd.DataFrame({ 'feature_names' : fea_tfidf, 'feature_probability' : tfidf_features_probs_neg.values()})\n",
        "top_10_features_neg = final_tfidf_features_neg.sort_values(by = ['feature_probability'], ascending = False)\n",
        "top_10_features_neg.head(10)"
      ],
      "metadata": {
        "colab": {
          "base_uri": "https://localhost:8080/",
          "height": 363
        },
        "id": "yB1IUAWdujLT",
        "outputId": "de67ebf7-00fb-4b12-9a0d-bde421c510e6"
      },
      "execution_count": 148,
      "outputs": [
        {
          "output_type": "execute_result",
          "data": {
            "text/plain": [
              "      feature_names  feature_probability\n",
              "13199        sugars            -3.054761\n",
              "11985      secretly            -4.152446\n",
              "7951       lifelong            -4.471139\n",
              "9011     negotiable            -4.515562\n",
              "2658         coffee            -4.618834\n",
              "9246   observations            -4.818147\n",
              "7947           lieu            -4.825569\n",
              "13767     timelines            -4.856156\n",
              "6561         holder            -4.866564\n",
              "13728        thumbs            -4.871164"
            ],
            "text/html": [
              "\n",
              "  <div id=\"df-fffb9767-c93d-4102-9a5d-fe0b8887392c\">\n",
              "    <div class=\"colab-df-container\">\n",
              "      <div>\n",
              "<style scoped>\n",
              "    .dataframe tbody tr th:only-of-type {\n",
              "        vertical-align: middle;\n",
              "    }\n",
              "\n",
              "    .dataframe tbody tr th {\n",
              "        vertical-align: top;\n",
              "    }\n",
              "\n",
              "    .dataframe thead th {\n",
              "        text-align: right;\n",
              "    }\n",
              "</style>\n",
              "<table border=\"1\" class=\"dataframe\">\n",
              "  <thead>\n",
              "    <tr style=\"text-align: right;\">\n",
              "      <th></th>\n",
              "      <th>feature_names</th>\n",
              "      <th>feature_probability</th>\n",
              "    </tr>\n",
              "  </thead>\n",
              "  <tbody>\n",
              "    <tr>\n",
              "      <th>13199</th>\n",
              "      <td>sugars</td>\n",
              "      <td>-3.054761</td>\n",
              "    </tr>\n",
              "    <tr>\n",
              "      <th>11985</th>\n",
              "      <td>secretly</td>\n",
              "      <td>-4.152446</td>\n",
              "    </tr>\n",
              "    <tr>\n",
              "      <th>7951</th>\n",
              "      <td>lifelong</td>\n",
              "      <td>-4.471139</td>\n",
              "    </tr>\n",
              "    <tr>\n",
              "      <th>9011</th>\n",
              "      <td>negotiable</td>\n",
              "      <td>-4.515562</td>\n",
              "    </tr>\n",
              "    <tr>\n",
              "      <th>2658</th>\n",
              "      <td>coffee</td>\n",
              "      <td>-4.618834</td>\n",
              "    </tr>\n",
              "    <tr>\n",
              "      <th>9246</th>\n",
              "      <td>observations</td>\n",
              "      <td>-4.818147</td>\n",
              "    </tr>\n",
              "    <tr>\n",
              "      <th>7947</th>\n",
              "      <td>lieu</td>\n",
              "      <td>-4.825569</td>\n",
              "    </tr>\n",
              "    <tr>\n",
              "      <th>13767</th>\n",
              "      <td>timelines</td>\n",
              "      <td>-4.856156</td>\n",
              "    </tr>\n",
              "    <tr>\n",
              "      <th>6561</th>\n",
              "      <td>holder</td>\n",
              "      <td>-4.866564</td>\n",
              "    </tr>\n",
              "    <tr>\n",
              "      <th>13728</th>\n",
              "      <td>thumbs</td>\n",
              "      <td>-4.871164</td>\n",
              "    </tr>\n",
              "  </tbody>\n",
              "</table>\n",
              "</div>\n",
              "      <button class=\"colab-df-convert\" onclick=\"convertToInteractive('df-fffb9767-c93d-4102-9a5d-fe0b8887392c')\"\n",
              "              title=\"Convert this dataframe to an interactive table.\"\n",
              "              style=\"display:none;\">\n",
              "        \n",
              "  <svg xmlns=\"http://www.w3.org/2000/svg\" height=\"24px\"viewBox=\"0 0 24 24\"\n",
              "       width=\"24px\">\n",
              "    <path d=\"M0 0h24v24H0V0z\" fill=\"none\"/>\n",
              "    <path d=\"M18.56 5.44l.94 2.06.94-2.06 2.06-.94-2.06-.94-.94-2.06-.94 2.06-2.06.94zm-11 1L8.5 8.5l.94-2.06 2.06-.94-2.06-.94L8.5 2.5l-.94 2.06-2.06.94zm10 10l.94 2.06.94-2.06 2.06-.94-2.06-.94-.94-2.06-.94 2.06-2.06.94z\"/><path d=\"M17.41 7.96l-1.37-1.37c-.4-.4-.92-.59-1.43-.59-.52 0-1.04.2-1.43.59L10.3 9.45l-7.72 7.72c-.78.78-.78 2.05 0 2.83L4 21.41c.39.39.9.59 1.41.59.51 0 1.02-.2 1.41-.59l7.78-7.78 2.81-2.81c.8-.78.8-2.07 0-2.86zM5.41 20L4 18.59l7.72-7.72 1.47 1.35L5.41 20z\"/>\n",
              "  </svg>\n",
              "      </button>\n",
              "      \n",
              "  <style>\n",
              "    .colab-df-container {\n",
              "      display:flex;\n",
              "      flex-wrap:wrap;\n",
              "      gap: 12px;\n",
              "    }\n",
              "\n",
              "    .colab-df-convert {\n",
              "      background-color: #E8F0FE;\n",
              "      border: none;\n",
              "      border-radius: 50%;\n",
              "      cursor: pointer;\n",
              "      display: none;\n",
              "      fill: #1967D2;\n",
              "      height: 32px;\n",
              "      padding: 0 0 0 0;\n",
              "      width: 32px;\n",
              "    }\n",
              "\n",
              "    .colab-df-convert:hover {\n",
              "      background-color: #E2EBFA;\n",
              "      box-shadow: 0px 1px 2px rgba(60, 64, 67, 0.3), 0px 1px 3px 1px rgba(60, 64, 67, 0.15);\n",
              "      fill: #174EA6;\n",
              "    }\n",
              "\n",
              "    [theme=dark] .colab-df-convert {\n",
              "      background-color: #3B4455;\n",
              "      fill: #D2E3FC;\n",
              "    }\n",
              "\n",
              "    [theme=dark] .colab-df-convert:hover {\n",
              "      background-color: #434B5C;\n",
              "      box-shadow: 0px 1px 3px 1px rgba(0, 0, 0, 0.15);\n",
              "      filter: drop-shadow(0px 1px 2px rgba(0, 0, 0, 0.3));\n",
              "      fill: #FFFFFF;\n",
              "    }\n",
              "  </style>\n",
              "\n",
              "      <script>\n",
              "        const buttonEl =\n",
              "          document.querySelector('#df-fffb9767-c93d-4102-9a5d-fe0b8887392c button.colab-df-convert');\n",
              "        buttonEl.style.display =\n",
              "          google.colab.kernel.accessAllowed ? 'block' : 'none';\n",
              "\n",
              "        async function convertToInteractive(key) {\n",
              "          const element = document.querySelector('#df-fffb9767-c93d-4102-9a5d-fe0b8887392c');\n",
              "          const dataTable =\n",
              "            await google.colab.kernel.invokeFunction('convertToInteractive',\n",
              "                                                     [key], {});\n",
              "          if (!dataTable) return;\n",
              "\n",
              "          const docLinkHtml = 'Like what you see? Visit the ' +\n",
              "            '<a target=\"_blank\" href=https://colab.research.google.com/notebooks/data_table.ipynb>data table notebook</a>'\n",
              "            + ' to learn more about interactive tables.';\n",
              "          element.innerHTML = '';\n",
              "          dataTable['output_type'] = 'display_data';\n",
              "          await google.colab.output.renderOutput(dataTable, element);\n",
              "          const docLink = document.createElement('div');\n",
              "          docLink.innerHTML = docLinkHtml;\n",
              "          element.appendChild(docLink);\n",
              "        }\n",
              "      </script>\n",
              "    </div>\n",
              "  </div>\n",
              "  "
            ]
          },
          "metadata": {},
          "execution_count": 148
        }
      ]
    },
    {
      "cell_type": "markdown",
      "metadata": {
        "id": "pqoqLFOIBXoN"
      },
      "source": [
        "#Comparison of models"
      ]
    },
    {
      "cell_type": "code",
      "execution_count": 150,
      "metadata": {
        "colab": {
          "base_uri": "https://localhost:8080/"
        },
        "id": "n5PPO7dUBXoN",
        "outputId": "c7dd14c4-a40c-4349-a27e-acfa113bf736"
      },
      "outputs": [
        {
          "output_type": "stream",
          "name": "stdout",
          "text": [
            "+------------+-------------------------+-----------------------+-----------+----------+\n",
            "| Vectorizer |          Model          | Hyperparameter: Alpha | Train AUC | Test AUC |\n",
            "+------------+-------------------------+-----------------------+-----------+----------+\n",
            "|    BOW     | Multinomial Naive Bayes |          0.5          |    0.77   |   0.71   |\n",
            "|   TF-IDF   | Multinomial Naive Bayes |          0.05         |    0.78   |   0.71   |\n",
            "+------------+-------------------------+-----------------------+-----------+----------+\n"
          ]
        }
      ],
      "source": [
        "x = PrettyTable()\n",
        "x.field_names = [\"Vectorizer\", \"Model\", \"Hyperparameter: Alpha\", \"Train AUC\", \"Test AUC\"]\n",
        "\n",
        "x.add_row([\"BOW\", \"Multinomial Naive Bayes\", bestalpha_1, round(auc_bow_train, 2), round(auc_bow_test, 2)])\n",
        "x.add_row([\"TF-IDF\", \"Multinomial Naive Bayes\", bestalpha_2, round(auc_tfidf_train, 2),round(auc_tfidf_test, 2)])\n",
        "print(x)"
      ]
    }
  ],
  "metadata": {
    "colab": {
      "collapsed_sections": [
        "JO_dy4hIBXoM"
      ],
      "provenance": [],
      "include_colab_link": true
    },
    "kernelspec": {
      "display_name": "Python 3",
      "language": "python",
      "name": "python3"
    },
    "language_info": {
      "codemirror_mode": {
        "name": "ipython",
        "version": 3
      },
      "file_extension": ".py",
      "mimetype": "text/x-python",
      "name": "python",
      "nbconvert_exporter": "python",
      "pygments_lexer": "ipython3",
      "version": "3.8.5"
    },
    "accelerator": "TPU"
  },
  "nbformat": 4,
  "nbformat_minor": 0
}